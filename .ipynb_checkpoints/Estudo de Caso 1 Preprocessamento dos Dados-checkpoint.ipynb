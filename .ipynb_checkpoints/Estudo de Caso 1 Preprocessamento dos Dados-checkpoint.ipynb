{
 "cells": [
  {
   "cell_type": "markdown",
   "id": "bac8692c",
   "metadata": {},
   "source": [
    "### Estudo de Caso 1: Limpeza e Preparação de um dataset"
   ]
  },
  {
   "cell_type": "code",
   "execution_count": 183,
   "id": "e788f040",
   "metadata": {},
   "outputs": [
    {
     "name": "stdout",
     "output_type": "stream",
     "text": [
      "A versão do Python usada é  3.9.12\n"
     ]
    }
   ],
   "source": [
    "#Versão do Python:\n",
    "from platform import python_version\n",
    "print(\"A versão do Python usada é \", python_version())"
   ]
  },
  {
   "cell_type": "code",
   "execution_count": 184,
   "id": "fa8a7d0e",
   "metadata": {},
   "outputs": [],
   "source": [
    "# Importações\n",
    "\n",
    "import numpy as np"
   ]
  },
  {
   "cell_type": "code",
   "execution_count": 185,
   "id": "352806a6",
   "metadata": {},
   "outputs": [],
   "source": [
    "import warnings\n",
    "\n",
    "warnings.filterwarnings('ignore')"
   ]
  },
  {
   "cell_type": "code",
   "execution_count": 186,
   "id": "92ce8b93",
   "metadata": {},
   "outputs": [],
   "source": [
    "# Configuração de impressão do numpy:\n",
    "\n",
    "np.set_printoptions(suppress = True, linewidth = 200, precision = 2)"
   ]
  },
  {
   "cell_type": "code",
   "execution_count": 187,
   "id": "696ddbe7",
   "metadata": {},
   "outputs": [],
   "source": [
    "#Carregando os dados:\n",
    "\n",
    "dados = np.genfromtxt('dataset1.csv',\n",
    "                     delimiter = ';',\n",
    "                     skip_header = 1,\n",
    "                     autostrip = True,\n",
    "                     encoding = 'cp1252')"
   ]
  },
  {
   "cell_type": "code",
   "execution_count": 188,
   "id": "a1a9ad57",
   "metadata": {},
   "outputs": [
    {
     "data": {
      "text/plain": [
       "numpy.ndarray"
      ]
     },
     "execution_count": 188,
     "metadata": {},
     "output_type": "execute_result"
    }
   ],
   "source": [
    "type(dados)"
   ]
  },
  {
   "cell_type": "code",
   "execution_count": 189,
   "id": "4c52d307",
   "metadata": {},
   "outputs": [
    {
     "data": {
      "text/plain": [
       "(10000, 14)"
      ]
     },
     "execution_count": 189,
     "metadata": {},
     "output_type": "execute_result"
    }
   ],
   "source": [
    "dados.shape"
   ]
  },
  {
   "cell_type": "code",
   "execution_count": 190,
   "id": "3f0bb45f",
   "metadata": {},
   "outputs": [
    {
     "data": {
      "text/plain": [
       "array([[48010226.  ,         nan,    35000.  , ...,         nan,         nan,     9452.96],\n",
       "       [57693261.  ,         nan,    30000.  , ...,         nan,         nan,     4679.7 ],\n",
       "       [59432726.  ,         nan,    15000.  , ...,         nan,         nan,     1969.83],\n",
       "       ...,\n",
       "       [50415990.  ,         nan,    10000.  , ...,         nan,         nan,     2185.64],\n",
       "       [46154151.  ,         nan,         nan, ...,         nan,         nan,     3199.4 ],\n",
       "       [66055249.  ,         nan,    10000.  , ...,         nan,         nan,      301.9 ]])"
      ]
     },
     "execution_count": 190,
     "metadata": {},
     "output_type": "execute_result"
    }
   ],
   "source": [
    "dados.view()"
   ]
  },
  {
   "cell_type": "code",
   "execution_count": 191,
   "id": "01ed08d1",
   "metadata": {},
   "outputs": [],
   "source": [
    "# Podemos observar que o numpy conseguiu carregar as colunas numéricas mas falhou em carrregar as do tipo string.\n",
    "# O Numpy carrega tanto dados numéricos como do tipo string, porém o dataset possui vários tipos de caracteres \n",
    "# que o Numpy não conseguiu identificar logo ele considerou como nan."
   ]
  },
  {
   "cell_type": "code",
   "execution_count": 192,
   "id": "35af0873",
   "metadata": {},
   "outputs": [
    {
     "data": {
      "text/plain": [
       "88005"
      ]
     },
     "execution_count": 192,
     "metadata": {},
     "output_type": "execute_result"
    }
   ],
   "source": [
    "# Verificando a quantidade de números ausentes:\n",
    "np.isnan(dados).sum()"
   ]
  },
  {
   "cell_type": "code",
   "execution_count": 193,
   "id": "b0868a3d",
   "metadata": {},
   "outputs": [],
   "source": [
    "#Resolvendo:\n",
    "\n",
    "# Pegar o maior valor numérico do dataset e somar + 1.\n",
    "\n",
    "# Usar esse valor para preencher valores nan na hora da carga das variáveis numéricas.\n",
    "\n",
    "# Depois da carga tratar esse valor como valor ausente.\n",
    "\n",
    "maior_valor_mais_um = np.nanmax(dados) + 1"
   ]
  },
  {
   "cell_type": "code",
   "execution_count": 194,
   "id": "12cbbaa7",
   "metadata": {},
   "outputs": [
    {
     "name": "stdout",
     "output_type": "stream",
     "text": [
      "[54015809.19         nan    15273.46         nan    15311.04         nan       16.62      440.92         nan         nan         nan         nan         nan     3143.85]\n"
     ]
    }
   ],
   "source": [
    "# Calculando a média das colunas numéricas ignorando os valores nan.\n",
    "\n",
    "# Vamos usar isso para separa variáveis numéricas de strings.\n",
    "\n",
    "media_sem_nan = np.nanmean(dados, axis = 0) # axis = 0 significa pegar as médias por colunas\n",
    "print(media_sem_nan)"
   ]
  },
  {
   "cell_type": "code",
   "execution_count": 195,
   "id": "2fb4bb59",
   "metadata": {},
   "outputs": [
    {
     "data": {
      "text/plain": [
       "array([ 1,  3,  5,  8,  9, 10, 11, 12])"
      ]
     },
     "execution_count": 195,
     "metadata": {},
     "output_type": "execute_result"
    }
   ],
   "source": [
    "# Agora podemos separar as colunas strings das colunas numéricas. \n",
    "\n",
    "# O mais interessante que não há strings no dataset, mas usaremos o media_sem_nan para marcar os valores string\n",
    "\n",
    "cols_strings = np.argwhere(np.isnan(media_sem_nan)).squeeze() #squeeze para colocar tudo em um array.\n",
    "cols_strings"
   ]
  },
  {
   "cell_type": "code",
   "execution_count": 196,
   "id": "81187fb4",
   "metadata": {},
   "outputs": [
    {
     "data": {
      "text/plain": [
       "array([ 0,  2,  4,  6,  7, 13])"
      ]
     },
     "execution_count": 196,
     "metadata": {},
     "output_type": "execute_result"
    }
   ],
   "source": [
    "#Colunas numéricas\n",
    "\n",
    "cols_num = np.argwhere(np.isnan(media_sem_nan)== False).squeeze()\n",
    "cols_num"
   ]
  },
  {
   "cell_type": "code",
   "execution_count": 197,
   "id": "0492b0a2",
   "metadata": {},
   "outputs": [],
   "source": [
    "# Importando novamente os dados mas separando colunas numéricas de strings:\n",
    "\n",
    "arr_string = np.genfromtxt('dataset1.csv',\n",
    "                     delimiter = ';',\n",
    "                     skip_header = 1,\n",
    "                     usecols = cols_strings,\n",
    "                     dtype = str,\n",
    "                     autostrip = True,\n",
    "                     encoding = 'cp1252')"
   ]
  },
  {
   "cell_type": "code",
   "execution_count": 198,
   "id": "0e5f28f4",
   "metadata": {},
   "outputs": [
    {
     "data": {
      "text/plain": [
       "array([['May-15', 'Current', '36 months', ..., 'Verified', 'https://www.lendingclub.com/browse/loanDetail.action?loan_id=48010226', 'CA'],\n",
       "       ['', 'Current', '36 months', ..., 'Source Verified', 'https://www.lendingclub.com/browse/loanDetail.action?loan_id=57693261', 'NY'],\n",
       "       ['Sep-15', 'Current', '36 months', ..., 'Verified', 'https://www.lendingclub.com/browse/loanDetail.action?loan_id=59432726', 'PA'],\n",
       "       ...,\n",
       "       ['Jun-15', 'Current', '36 months', ..., 'Source Verified', 'https://www.lendingclub.com/browse/loanDetail.action?loan_id=50415990', 'CA'],\n",
       "       ['Apr-15', 'Current', '36 months', ..., 'Source Verified', 'https://www.lendingclub.com/browse/loanDetail.action?loan_id=46154151', 'OH'],\n",
       "       ['Dec-15', 'Current', '36 months', ..., '', 'https://www.lendingclub.com/browse/loanDetail.action?loan_id=66055249', 'IL']], dtype='<U69')"
      ]
     },
     "execution_count": 198,
     "metadata": {},
     "output_type": "execute_result"
    }
   ],
   "source": [
    "arr_string "
   ]
  },
  {
   "cell_type": "code",
   "execution_count": 199,
   "id": "748ff9f7",
   "metadata": {},
   "outputs": [],
   "source": [
    "arr_num = np.genfromtxt('dataset1.csv',\n",
    "                     delimiter = ';',\n",
    "                     skip_header = 1,\n",
    "                     usecols = cols_num,\n",
    "                     filling_values = maior_valor_mais_um,\n",
    "                     autostrip = True,\n",
    "                     encoding = 'cp1252')"
   ]
  },
  {
   "cell_type": "code",
   "execution_count": 200,
   "id": "e6e73ca8",
   "metadata": {},
   "outputs": [
    {
     "data": {
      "text/plain": [
       "array([[48010226.  ,    35000.  ,    35000.  ,       13.33,     1184.86,     9452.96],\n",
       "       [57693261.  ,    30000.  ,    30000.  , 68616520.  ,      938.57,     4679.7 ],\n",
       "       [59432726.  ,    15000.  ,    15000.  , 68616520.  ,      494.86,     1969.83],\n",
       "       ...,\n",
       "       [50415990.  ,    10000.  ,    10000.  , 68616520.  , 68616520.  ,     2185.64],\n",
       "       [46154151.  , 68616520.  ,    10000.  ,       16.55,      354.3 ,     3199.4 ],\n",
       "       [66055249.  ,    10000.  ,    10000.  , 68616520.  ,      309.97,      301.9 ]])"
      ]
     },
     "execution_count": 200,
     "metadata": {},
     "output_type": "execute_result"
    }
   ],
   "source": [
    "arr_num"
   ]
  },
  {
   "cell_type": "code",
   "execution_count": 201,
   "id": "735852b6",
   "metadata": {},
   "outputs": [],
   "source": [
    "# Criando um array com os nomes das colunas:\n",
    "\n",
    "arr_col_nomes = np.genfromtxt('dataset1.csv',\n",
    "                     delimiter = ';',\n",
    "                     autostrip = True,\n",
    "                     skip_footer = dados.shape[0],\n",
    "                     dtype = str, \n",
    "                     encoding = 'cp1252')"
   ]
  },
  {
   "cell_type": "code",
   "execution_count": 202,
   "id": "027caa4e",
   "metadata": {},
   "outputs": [],
   "source": [
    "#Separando os nomes das colunas string e numéricas:\n",
    "\n",
    "header_string, header_num = arr_col_nomes[cols_strings], arr_col_nomes[cols_num]"
   ]
  },
  {
   "cell_type": "code",
   "execution_count": 203,
   "id": "23a0c222",
   "metadata": {},
   "outputs": [
    {
     "data": {
      "text/plain": [
       "array(['issue_d', 'loan_status', 'term', 'grade', 'sub_grade', 'verification_status', 'url', 'addr_state'], dtype='<U19')"
      ]
     },
     "execution_count": 203,
     "metadata": {},
     "output_type": "execute_result"
    }
   ],
   "source": [
    "header_string"
   ]
  },
  {
   "cell_type": "code",
   "execution_count": 204,
   "id": "209834be",
   "metadata": {},
   "outputs": [
    {
     "data": {
      "text/plain": [
       "array(['id', 'loan_amnt', 'funded_amnt', 'int_rate', 'installment', 'total_pymnt'], dtype='<U19')"
      ]
     },
     "execution_count": 204,
     "metadata": {},
     "output_type": "execute_result"
    }
   ],
   "source": [
    "header_num"
   ]
  },
  {
   "cell_type": "markdown",
   "id": "ceb1c8f3",
   "metadata": {},
   "source": [
    "### Função Checkpoint"
   ]
  },
  {
   "cell_type": "code",
   "execution_count": 205,
   "id": "612e45ce",
   "metadata": {},
   "outputs": [],
   "source": [
    "# Criação de uma função de checkpoint para salvar os resultados intermédiários.\n",
    "\n",
    "def checkpoint(file_name, checkpoint_header, checkpoint_data):\n",
    "    \n",
    "    np.savez(file_name, header = checkpoint_header, data = checkpoint_data)\n",
    "    checkpoint_variable = np.load(file_name + \".npz\")\n",
    "    return(checkpoint_variable)"
   ]
  },
  {
   "cell_type": "code",
   "execution_count": 206,
   "id": "ad54bfe2",
   "metadata": {},
   "outputs": [],
   "source": [
    "checkpoint_inicial = checkpoint(\"Checkpoint_inicial\", header_string, arr_string)"
   ]
  },
  {
   "cell_type": "code",
   "execution_count": 207,
   "id": "d47823a5",
   "metadata": {},
   "outputs": [
    {
     "data": {
      "text/plain": [
       "array([['May-15', 'Current', '36 months', ..., 'Verified', 'https://www.lendingclub.com/browse/loanDetail.action?loan_id=48010226', 'CA'],\n",
       "       ['', 'Current', '36 months', ..., 'Source Verified', 'https://www.lendingclub.com/browse/loanDetail.action?loan_id=57693261', 'NY'],\n",
       "       ['Sep-15', 'Current', '36 months', ..., 'Verified', 'https://www.lendingclub.com/browse/loanDetail.action?loan_id=59432726', 'PA'],\n",
       "       ...,\n",
       "       ['Jun-15', 'Current', '36 months', ..., 'Source Verified', 'https://www.lendingclub.com/browse/loanDetail.action?loan_id=50415990', 'CA'],\n",
       "       ['Apr-15', 'Current', '36 months', ..., 'Source Verified', 'https://www.lendingclub.com/browse/loanDetail.action?loan_id=46154151', 'OH'],\n",
       "       ['Dec-15', 'Current', '36 months', ..., '', 'https://www.lendingclub.com/browse/loanDetail.action?loan_id=66055249', 'IL']], dtype='<U69')"
      ]
     },
     "execution_count": 207,
     "metadata": {},
     "output_type": "execute_result"
    }
   ],
   "source": [
    "checkpoint_inicial['data']"
   ]
  },
  {
   "cell_type": "markdown",
   "id": "e6f8fb8d",
   "metadata": {},
   "source": [
    "### Manipulação de Variáveis Categóricas"
   ]
  },
  {
   "cell_type": "code",
   "execution_count": 208,
   "id": "6b2c65c8",
   "metadata": {},
   "outputs": [
    {
     "data": {
      "text/plain": [
       "array(['issue_d', 'loan_status', 'term', 'grade', 'sub_grade', 'verification_status', 'url', 'addr_state'], dtype='<U19')"
      ]
     },
     "execution_count": 208,
     "metadata": {},
     "output_type": "execute_result"
    }
   ],
   "source": [
    "# Colunas categoricas\n",
    "header_string"
   ]
  },
  {
   "cell_type": "code",
   "execution_count": 209,
   "id": "90290bd8",
   "metadata": {},
   "outputs": [
    {
     "data": {
      "text/plain": [
       "array(['issue_date', 'loan_status', 'term', 'grade', 'sub_grade', 'verification_status', 'url', 'addr_state'], dtype='<U19')"
      ]
     },
     "execution_count": 209,
     "metadata": {},
     "output_type": "execute_result"
    }
   ],
   "source": [
    "#Mudando o nome da coluna 'issue_d'\n",
    "header_string[0] = 'issue_date'; header_string"
   ]
  },
  {
   "cell_type": "code",
   "execution_count": 210,
   "id": "e921983c",
   "metadata": {},
   "outputs": [
    {
     "data": {
      "text/plain": [
       "array(['', 'Apr-15', 'Aug-15', 'Dec-15', 'Feb-15', 'Jan-15', 'Jul-15', 'Jun-15', 'Mar-15', 'May-15', 'Nov-15', 'Oct-15', 'Sep-15'], dtype='<U69')"
      ]
     },
     "execution_count": 210,
     "metadata": {},
     "output_type": "execute_result"
    }
   ],
   "source": [
    "# Pré processando a variável 'issue_date':\n",
    "\n",
    "np.unique(arr_string[:,0])"
   ]
  },
  {
   "cell_type": "code",
   "execution_count": 211,
   "id": "87acb374",
   "metadata": {},
   "outputs": [
    {
     "data": {
      "text/plain": [
       "array(['', 'Apr', 'Aug', 'Dec', 'Feb', 'Jan', 'Jul', 'Jun', 'Mar', 'May', 'Nov', 'Oct', 'Sep'], dtype='<U69')"
      ]
     },
     "execution_count": 211,
     "metadata": {},
     "output_type": "execute_result"
    }
   ],
   "source": [
    "# Removendo o sufixo '-15'\n",
    "arr_string[:, 0] = np.chararray.strip(arr_string[:,0], '-15'); np.unique(arr_string[:, 0])"
   ]
  },
  {
   "cell_type": "code",
   "execution_count": 212,
   "id": "081a4ef4",
   "metadata": {},
   "outputs": [],
   "source": [
    "# Array com os meses + o valor faltante:\n",
    "meses = np.array(['', 'Jan', 'Feb', 'Mar', 'Apr', 'May', 'Jun', 'Jul', 'Aug', 'Sep', 'Oct', 'Nov', 'Dec'])"
   ]
  },
  {
   "cell_type": "code",
   "execution_count": 213,
   "id": "8c1018f3",
   "metadata": {},
   "outputs": [],
   "source": [
    "#Label encoding: Converter uma variável numérica categórica para sua correspondente numérica sem perder informação.\n",
    "\n",
    "for i in range(len(meses)):\n",
    "    arr_string[:,0] = np.where(arr_string[:,0] == meses[i], i, arr_string[:,0])"
   ]
  },
  {
   "cell_type": "code",
   "execution_count": 214,
   "id": "6b59fa2e",
   "metadata": {},
   "outputs": [
    {
     "data": {
      "text/plain": [
       "array(['0', '1', '10', '11', '12', '2', '3', '4', '5', '6', '7', '8', '9'], dtype='<U69')"
      ]
     },
     "execution_count": 214,
     "metadata": {},
     "output_type": "execute_result"
    }
   ],
   "source": [
    "np.unique(arr_string[:, 0])"
   ]
  },
  {
   "cell_type": "code",
   "execution_count": 215,
   "id": "2d464726",
   "metadata": {},
   "outputs": [
    {
     "data": {
      "text/plain": [
       "array(['', 'Charged Off', 'Current', 'Default', 'Fully Paid', 'In Grace Period', 'Issued', 'Late (16-30 days)', 'Late (31-120 days)'], dtype='<U69')"
      ]
     },
     "execution_count": 215,
     "metadata": {},
     "output_type": "execute_result"
    }
   ],
   "source": [
    "# Tratando a variável 'loan_status':\n",
    "np.unique(arr_string[:,1])"
   ]
  },
  {
   "cell_type": "code",
   "execution_count": 216,
   "id": "4be6fdbc",
   "metadata": {},
   "outputs": [
    {
     "data": {
      "text/plain": [
       "9"
      ]
     },
     "execution_count": 216,
     "metadata": {},
     "output_type": "execute_result"
    }
   ],
   "source": [
    "#Número de variáveis:\n",
    "np.unique(arr_string[:,1]).size"
   ]
  },
  {
   "cell_type": "code",
   "execution_count": 217,
   "id": "225bc5d6",
   "metadata": {},
   "outputs": [],
   "source": [
    "#Binarização: Neste casos criaremos uma lista de negativos, logo ou a variável loan_status' estará nessa categoria\n",
    "# ou na outra\n",
    "status_bad = np.array(['', 'Charged Off', 'Default', 'Late (31-120 days)'])"
   ]
  },
  {
   "cell_type": "code",
   "execution_count": 218,
   "id": "ba38d698",
   "metadata": {},
   "outputs": [
    {
     "data": {
      "text/plain": [
       "array(['0', '1'], dtype='<U69')"
      ]
     },
     "execution_count": 218,
     "metadata": {},
     "output_type": "execute_result"
    }
   ],
   "source": [
    "# Se um dos status estiver no array status_bad a observação recebe o valor 0, senão recebe 1\n",
    "arr_string[:,1] = np.where(np.isin(arr_string[:,1], status_bad), 0,1)\n",
    "np.unique(arr_string[:,1])"
   ]
  },
  {
   "cell_type": "code",
   "execution_count": 219,
   "id": "8da73288",
   "metadata": {},
   "outputs": [
    {
     "data": {
      "text/plain": [
       "array(['', '36 months', '60 months'], dtype='<U69')"
      ]
     },
     "execution_count": 219,
     "metadata": {},
     "output_type": "execute_result"
    }
   ],
   "source": [
    "# Tratando a variável 'term':\n",
    "\n",
    "#1) Extraindo os valores únicos:\n",
    "np.unique(arr_string[:, 2])"
   ]
  },
  {
   "cell_type": "code",
   "execution_count": 220,
   "id": "8e269e11",
   "metadata": {},
   "outputs": [
    {
     "data": {
      "text/plain": [
       "array(['', '36', '60'], dtype='<U69')"
      ]
     },
     "execution_count": 220,
     "metadata": {},
     "output_type": "execute_result"
    }
   ],
   "source": [
    "#Removendo a palavra months e o espaço também !!\n",
    "\n",
    "arr_string[:, 2] = np.chararray.strip(arr_string[:, 2], ' months'); np.unique(arr_string[:, 2])"
   ]
  },
  {
   "cell_type": "code",
   "execution_count": 221,
   "id": "ad6a2c71",
   "metadata": {},
   "outputs": [],
   "source": [
    "#Renomeandoa variável:\n",
    "header_string[2] ='term_months'"
   ]
  },
  {
   "cell_type": "code",
   "execution_count": 222,
   "id": "010214c4",
   "metadata": {},
   "outputs": [
    {
     "data": {
      "text/plain": [
       "array(['36', '60'], dtype='<U69')"
      ]
     },
     "execution_count": 222,
     "metadata": {},
     "output_type": "execute_result"
    }
   ],
   "source": [
    "# Substituindo o valor ausente pelo maior valor da variável (neste caso 60):\n",
    "\n",
    "arr_string[:, 2] = np.where(arr_string[:, 2] == '', '60', arr_string[:, 2]); np.unique(arr_string[:, 2])"
   ]
  },
  {
   "cell_type": "code",
   "execution_count": 223,
   "id": "318393b6",
   "metadata": {},
   "outputs": [
    {
     "data": {
      "text/plain": [
       "array(['', 'A', 'B', 'C', 'D', 'E', 'F', 'G'], dtype='<U69')"
      ]
     },
     "execution_count": 223,
     "metadata": {},
     "output_type": "execute_result"
    }
   ],
   "source": [
    "# Ao analisar as variáveis 'grade' e 'sub_grade' nota-se uma similaridade. É provével que ambas tragam informações\n",
    "#parecidas, checando:\n",
    "np.unique(arr_string[:, 3])\n"
   ]
  },
  {
   "cell_type": "code",
   "execution_count": 224,
   "id": "6ae6ccbc",
   "metadata": {},
   "outputs": [
    {
     "data": {
      "text/plain": [
       "array(['', 'A1', 'A2', 'A3', 'A4', 'A5', 'B1', 'B2', 'B3', 'B4', 'B5', 'C1', 'C2', 'C3', 'C4', 'C5', 'D1', 'D2', 'D3', 'D4', 'D5', 'E1', 'E2', 'E3', 'E4', 'E5', 'F1', 'F2', 'F3', 'F4', 'F5', 'G1',\n",
       "       'G2', 'G3', 'G4', 'G5'], dtype='<U69')"
      ]
     },
     "execution_count": 224,
     "metadata": {},
     "output_type": "execute_result"
    }
   ],
   "source": [
    "np.unique(arr_string[:, 4])"
   ]
  },
  {
   "cell_type": "code",
   "execution_count": 225,
   "id": "2f46453f",
   "metadata": {},
   "outputs": [],
   "source": [
    "# Observa-se que foi criada uma subcategoria pra cada categoria de risco.\n",
    "\n",
    "# Uma decisão precisa ser tomada: qual variável deve ficar no dataset? \n",
    "\n",
    "# Podemos observar que a variável 'subgrade' tem mais informações sobre o tipo de risco. Logo a princípio essa variável\n",
    "# ficará no dataset.\n",
    "\n",
    "# Mas é a melhor decisão? \n",
    "\n",
    "# Com a informações que temos agora não há como saber. Talvez ao construir o modelo de ML poderemos chegar a \n",
    "#conclusão que a melhor variável para o modelo seria a 'grade'.\n",
    "\n"
   ]
  },
  {
   "cell_type": "code",
   "execution_count": 226,
   "id": "b735414a",
   "metadata": {},
   "outputs": [
    {
     "data": {
      "text/plain": [
       "array(['A', 'B', 'C', 'D', 'E', 'F', 'G'], dtype='<U69')"
      ]
     },
     "execution_count": 226,
     "metadata": {},
     "output_type": "execute_result"
    }
   ],
   "source": [
    "# Obtendo os valores únicos da variável grade excetuando o valor ausente:\n",
    "\n",
    "np.unique(arr_string[:,3])[1:]"
   ]
  },
  {
   "cell_type": "code",
   "execution_count": 227,
   "id": "7639870b",
   "metadata": {},
   "outputs": [],
   "source": [
    "# Ajustando a variável subgrade através de um loop:\n",
    "\n",
    "for i in np.unique(arr_string[:,3])[1:]:\n",
    "    arr_string[:,4] = np.where((arr_string[:,4] == '') & (arr_string[:,3]==i), i + '5', arr_string[:,4])"
   ]
  },
  {
   "cell_type": "code",
   "execution_count": 228,
   "id": "fdf8c795",
   "metadata": {},
   "outputs": [
    {
     "data": {
      "text/plain": [
       "(array(['', 'A1', 'A2', 'A3', 'A4', 'A5', 'B1', 'B2', 'B3', 'B4', 'B5', 'C1', 'C2', 'C3', 'C4', 'C5', 'D1', 'D2', 'D3', 'D4', 'D5', 'E1', 'E2', 'E3', 'E4', 'E5', 'F1', 'F2', 'F3', 'F4', 'F5', 'G1',\n",
       "        'G2', 'G3', 'G4', 'G5'], dtype='<U69'),\n",
       " array([  9, 285, 278, 239, 323, 592, 509, 517, 530, 553, 633, 629, 567, 586, 564, 577, 391, 267, 250, 255, 288, 235, 162, 171, 139, 160,  94,  52,  34,  43,  24,  19,  10,   3,   7,   5]))"
      ]
     },
     "execution_count": 228,
     "metadata": {},
     "output_type": "execute_result"
    }
   ],
   "source": [
    "np.unique(arr_string[:,4], return_counts = True)"
   ]
  },
  {
   "cell_type": "code",
   "execution_count": 229,
   "id": "af2bf586",
   "metadata": {},
   "outputs": [
    {
     "data": {
      "text/plain": [
       "array(['A1', 'A2', 'A3', 'A4', 'A5', 'B1', 'B2', 'B3', 'B4', 'B5', 'C1', 'C2', 'C3', 'C4', 'C5', 'D1', 'D2', 'D3', 'D4', 'D5', 'E1', 'E2', 'E3', 'E4', 'E5', 'F1', 'F2', 'F3', 'F4', 'F5', 'G1', 'G2',\n",
       "       'G3', 'G4', 'G5', 'H1'], dtype='<U69')"
      ]
     },
     "execution_count": 229,
     "metadata": {},
     "output_type": "execute_result"
    }
   ],
   "source": [
    "#Substituindo o valor ausente por uma nova categoria:\n",
    "arr_string[:,4] = np.where(arr_string[:,4] =='', 'H1', arr_string[:,4]); np.unique(arr_string[:,4])"
   ]
  },
  {
   "cell_type": "code",
   "execution_count": 230,
   "id": "992830c5",
   "metadata": {},
   "outputs": [],
   "source": [
    "# Agora podemos remover a variável grade:\n",
    "arr_string = np.delete(arr_string, 3, axis = 1)"
   ]
  },
  {
   "cell_type": "code",
   "execution_count": 231,
   "id": "9c78c15e",
   "metadata": {},
   "outputs": [],
   "source": [
    "# Removendo também do header_string\n",
    "header_string = np.delete(header_string, 3)"
   ]
  },
  {
   "cell_type": "code",
   "execution_count": 232,
   "id": "4950d5d7",
   "metadata": {},
   "outputs": [
    {
     "data": {
      "text/plain": [
       "array(['issue_date', 'loan_status', 'term_months', 'sub_grade', 'verification_status', 'url', 'addr_state'], dtype='<U19')"
      ]
     },
     "execution_count": 232,
     "metadata": {},
     "output_type": "execute_result"
    }
   ],
   "source": [
    "header_string"
   ]
  },
  {
   "cell_type": "code",
   "execution_count": 233,
   "id": "bb576777",
   "metadata": {},
   "outputs": [
    {
     "data": {
      "text/plain": [
       "array(['A1', 'A2', 'A3', 'A4', 'A5', 'B1', 'B2', 'B3', 'B4', 'B5', 'C1', 'C2', 'C3', 'C4', 'C5', 'D1', 'D2', 'D3', 'D4', 'D5', 'E1', 'E2', 'E3', 'E4', 'E5', 'F1', 'F2', 'F3', 'F4', 'F5', 'G1', 'G2',\n",
       "       'G3', 'G4', 'G5', 'H1'], dtype='<U69')"
      ]
     },
     "execution_count": 233,
     "metadata": {},
     "output_type": "execute_result"
    }
   ],
   "source": [
    "# Ainda falta converter a variável subgrade para numérica\n",
    "np.unique(arr_string[:,3])"
   ]
  },
  {
   "cell_type": "code",
   "execution_count": 234,
   "id": "97b8ba04",
   "metadata": {},
   "outputs": [
    {
     "data": {
      "text/plain": [
       "'A1'"
      ]
     },
     "execution_count": 234,
     "metadata": {},
     "output_type": "execute_result"
    }
   ],
   "source": [
    "#Criando um dicionário:\n",
    "\n",
    "#1) Criando as chaves:\n",
    "key = list(np.unique(arr_string[:,3]))\n",
    "key[0]"
   ]
  },
  {
   "cell_type": "code",
   "execution_count": 235,
   "id": "56dfc164",
   "metadata": {},
   "outputs": [],
   "source": [
    "#2) Criando valores:\n",
    "\n",
    "values = list(range(1, np.unique(arr_string[:,3]).shape[0] +1)) # np.unique(arr_string[:,3]).shape[0] é o número\n",
    "#de linhas (36) ou seja vai de 1 a 37 (37 fica excluído)"
   ]
  },
  {
   "cell_type": "code",
   "execution_count": 236,
   "id": "43af1fce",
   "metadata": {},
   "outputs": [
    {
     "data": {
      "text/plain": [
       "[1,\n",
       " 2,\n",
       " 3,\n",
       " 4,\n",
       " 5,\n",
       " 6,\n",
       " 7,\n",
       " 8,\n",
       " 9,\n",
       " 10,\n",
       " 11,\n",
       " 12,\n",
       " 13,\n",
       " 14,\n",
       " 15,\n",
       " 16,\n",
       " 17,\n",
       " 18,\n",
       " 19,\n",
       " 20,\n",
       " 21,\n",
       " 22,\n",
       " 23,\n",
       " 24,\n",
       " 25,\n",
       " 26,\n",
       " 27,\n",
       " 28,\n",
       " 29,\n",
       " 30,\n",
       " 31,\n",
       " 32,\n",
       " 33,\n",
       " 34,\n",
       " 35,\n",
       " 36]"
      ]
     },
     "execution_count": 236,
     "metadata": {},
     "output_type": "execute_result"
    }
   ],
   "source": [
    "values"
   ]
  },
  {
   "cell_type": "code",
   "execution_count": 237,
   "id": "78b8ca84",
   "metadata": {},
   "outputs": [
    {
     "data": {
      "text/plain": [
       "{'A1': 1,\n",
       " 'A2': 2,\n",
       " 'A3': 3,\n",
       " 'A4': 4,\n",
       " 'A5': 5,\n",
       " 'B1': 6,\n",
       " 'B2': 7,\n",
       " 'B3': 8,\n",
       " 'B4': 9,\n",
       " 'B5': 10,\n",
       " 'C1': 11,\n",
       " 'C2': 12,\n",
       " 'C3': 13,\n",
       " 'C4': 14,\n",
       " 'C5': 15,\n",
       " 'D1': 16,\n",
       " 'D2': 17,\n",
       " 'D3': 18,\n",
       " 'D4': 19,\n",
       " 'D5': 20,\n",
       " 'E1': 21,\n",
       " 'E2': 22,\n",
       " 'E3': 23,\n",
       " 'E4': 24,\n",
       " 'E5': 25,\n",
       " 'F1': 26,\n",
       " 'F2': 27,\n",
       " 'F3': 28,\n",
       " 'F4': 29,\n",
       " 'F5': 30,\n",
       " 'G1': 31,\n",
       " 'G2': 32,\n",
       " 'G3': 33,\n",
       " 'G4': 34,\n",
       " 'G5': 35,\n",
       " 'H1': 36}"
      ]
     },
     "execution_count": 237,
     "metadata": {},
     "output_type": "execute_result"
    }
   ],
   "source": [
    "#3) Construindo o dicionário:\n",
    "dict_subgrade = dict(zip(key, values)); dict_subgrade"
   ]
  },
  {
   "cell_type": "code",
   "execution_count": 238,
   "id": "87dcfb6a",
   "metadata": {},
   "outputs": [],
   "source": [
    "# Loop para fazer a conversão:\n",
    "\n",
    "for i in np.unique(arr_string[:,3]):\n",
    "    arr_string[:,3] = np.where(arr_string[:,3] ==i, dict_subgrade[i], arr_string[:,3])"
   ]
  },
  {
   "cell_type": "code",
   "execution_count": 239,
   "id": "fd65ae5c",
   "metadata": {},
   "outputs": [
    {
     "data": {
      "text/plain": [
       "array(['1', '10', '11', '12', '13', '14', '15', '16', '17', '18', '19', '2', '20', '21', '22', '23', '24', '25', '26', '27', '28', '29', '3', '30', '31', '32', '33', '34', '35', '36', '4', '5', '6',\n",
       "       '7', '8', '9'], dtype='<U69')"
      ]
     },
     "execution_count": 239,
     "metadata": {},
     "output_type": "execute_result"
    }
   ],
   "source": [
    "np.unique(arr_string[:,3])"
   ]
  },
  {
   "cell_type": "code",
   "execution_count": 240,
   "id": "af9b9698",
   "metadata": {},
   "outputs": [
    {
     "data": {
      "text/plain": [
       "array(['', 'Not Verified', 'Source Verified', 'Verified'], dtype='<U69')"
      ]
     },
     "execution_count": 240,
     "metadata": {},
     "output_type": "execute_result"
    }
   ],
   "source": [
    "# Tratando a variável 'verification_status':\n",
    "\n",
    "#Pegando os valores únicos:\n",
    "\n",
    "np.unique(arr_string[:,4])"
   ]
  },
  {
   "cell_type": "code",
   "execution_count": 241,
   "id": "5843a406",
   "metadata": {},
   "outputs": [],
   "source": [
    "#Neste casos vamos assumir que 'Source Verified', 'Verified' são a mesma coisa e representam uma classe positiva.\n",
    "# Logo podemos simplismente binarizar essa variáel.\n",
    "\n",
    "arr_string[:,4] = np.where((arr_string[:,4] == '') | (arr_string[:,4] == 'Not Verified'), 0, 1)\n",
    "# Neste caso o dado faltante entra como categoria negativa (0)"
   ]
  },
  {
   "cell_type": "code",
   "execution_count": 242,
   "id": "487b2b41",
   "metadata": {},
   "outputs": [
    {
     "data": {
      "text/plain": [
       "array(['https://www.lendingclub.com/browse/loanDetail.action?loan_id=12606806', 'https://www.lendingclub.com/browse/loanDetail.action?loan_id=13026045',\n",
       "       'https://www.lendingclub.com/browse/loanDetail.action?loan_id=1312426', ..., 'https://www.lendingclub.com/browse/loanDetail.action?loan_id=8138291',\n",
       "       'https://www.lendingclub.com/browse/loanDetail.action?loan_id=8214572', 'https://www.lendingclub.com/browse/loanDetail.action?loan_id=849994'], dtype='<U69')"
      ]
     },
     "execution_count": 242,
     "metadata": {},
     "output_type": "execute_result"
    }
   ],
   "source": [
    "# Tratando a variável 'url'\n",
    "\n",
    "#Pegando os valores únicos:\n",
    "\n",
    "np.unique(arr_string[:,5])"
   ]
  },
  {
   "cell_type": "code",
   "execution_count": 243,
   "id": "f09958e0",
   "metadata": {},
   "outputs": [
    {
     "data": {
      "text/plain": [
       "array(['12606806', '13026045', '1312426', ..., '8138291', '8214572', '849994'], dtype='<U69')"
      ]
     },
     "execution_count": 243,
     "metadata": {},
     "output_type": "execute_result"
    }
   ],
   "source": [
    "# Podemos observar que temos um id (loan_id) em cada url.\n",
    "\n",
    "#Observa-se que o que difere uma url de outra é extamente o id, portanto vamos extrair o id de cada url:\n",
    "\n",
    "arr_string[:,5] = np.chararray.strip(arr_string[:,5], 'https://www.lendingclub.com/browse/loanDetail.action?loan_id=')\n",
    "np.unique(arr_string[:,5])"
   ]
  },
  {
   "cell_type": "code",
   "execution_count": 244,
   "id": "97781a7f",
   "metadata": {},
   "outputs": [
    {
     "data": {
      "text/plain": [
       "array([48010226, 57693261, 59432726, ..., 50415990, 46154151, 66055249], dtype=int32)"
      ]
     },
     "execution_count": 244,
     "metadata": {},
     "output_type": "execute_result"
    }
   ],
   "source": [
    "# Mudando o tipo para int32\n",
    "\n",
    "arr_string[:,5].astype(dtype= np.int32)"
   ]
  },
  {
   "cell_type": "code",
   "execution_count": 245,
   "id": "28689281",
   "metadata": {},
   "outputs": [
    {
     "data": {
      "text/plain": [
       "array([48010226, 57693261, 59432726, ..., 50415990, 46154151, 66055249], dtype=int32)"
      ]
     },
     "execution_count": 245,
     "metadata": {},
     "output_type": "execute_result"
    }
   ],
   "source": [
    "# Pode-se observar que a coluna id (numérica) é exatamente igual ao id retirado da url.\n",
    "\n",
    "# Podemos comparar:\n",
    "\n",
    "arr_num[:,0].astype(dtype = np.int32) # convertendo para int32 primeiro!"
   ]
  },
  {
   "cell_type": "code",
   "execution_count": 246,
   "id": "cae4bc78",
   "metadata": {},
   "outputs": [
    {
     "data": {
      "text/plain": [
       "True"
      ]
     },
     "execution_count": 246,
     "metadata": {},
     "output_type": "execute_result"
    }
   ],
   "source": [
    "np.array_equal(arr_num[:,0].astype(dtype = np.int32), arr_string[:,5].astype(dtype= np.int32))\n",
    "\n"
   ]
  },
  {
   "cell_type": "code",
   "execution_count": 247,
   "id": "6ee4876b",
   "metadata": {},
   "outputs": [],
   "source": [
    "# Confirmado!!\n",
    "\n",
    "# Podemos remover uma das variáveis!\n",
    "\n",
    "# Iremos deletar o id oriundo da url\n",
    "\n",
    "arr_string = np.delete(arr_string, 5, axis=1)"
   ]
  },
  {
   "cell_type": "code",
   "execution_count": 248,
   "id": "217ffc96",
   "metadata": {},
   "outputs": [],
   "source": [
    "# Removendo do header_string:\n",
    "\n",
    "header_string = np.delete(header_string, 5)"
   ]
  },
  {
   "cell_type": "code",
   "execution_count": 249,
   "id": "da42f283",
   "metadata": {},
   "outputs": [
    {
     "data": {
      "text/plain": [
       "array(['CA', 'NY', 'PA', ..., 'CA', 'OH', 'IL'], dtype='<U69')"
      ]
     },
     "execution_count": 249,
     "metadata": {},
     "output_type": "execute_result"
    }
   ],
   "source": [
    "# Nova variável de índice 5:\n",
    "arr_string[:,5]"
   ]
  },
  {
   "cell_type": "code",
   "execution_count": 252,
   "id": "2f0662df",
   "metadata": {},
   "outputs": [],
   "source": [
    "# Transformando a última variável categórica.\n",
    "\n",
    "# variável addr_state\n",
    "\n",
    "# Primeiro vamos mudar o nome da variável para ajudar no reconhecimento de seu significado.\n",
    "\n",
    "header_string[5] = 'state_address'"
   ]
  },
  {
   "cell_type": "code",
   "execution_count": 253,
   "id": "5d12b545",
   "metadata": {},
   "outputs": [],
   "source": [
    "# Extraindo os nomes e as contagens de cada estado\n",
    "states_name, states_count = np.unique(arr_string[:,5], return_counts = True)"
   ]
  },
  {
   "cell_type": "code",
   "execution_count": 255,
   "id": "61faa2d7",
   "metadata": {},
   "outputs": [],
   "source": [
    "# Ordenando em ordem decrescente\n",
    "\n",
    "state_count_sorted = np.argsort(-states_count)"
   ]
  },
  {
   "cell_type": "code",
   "execution_count": 257,
   "id": "25d323ba",
   "metadata": {},
   "outputs": [
    {
     "data": {
      "text/plain": [
       "(array(['CA', 'NY', 'TX', 'FL', '', 'IL', 'NJ', 'GA', 'PA', 'OH', 'MI', 'NC', 'VA', 'MD', 'AZ', 'WA', 'MA', 'CO', 'MO', 'MN', 'IN', 'WI', 'CT', 'TN', 'NV', 'AL', 'LA', 'OR', 'SC', 'KY', 'KS', 'OK',\n",
       "        'UT', 'AR', 'MS', 'NH', 'NM', 'WV', 'HI', 'RI', 'MT', 'DE', 'DC', 'WY', 'AK', 'NE', 'SD', 'VT', 'ND', 'ME'], dtype='<U69'),\n",
       " array([1336,  777,  758,  690,  500,  389,  341,  321,  320,  312,  267,  261,  242,  222,  220,  216,  210,  201,  160,  156,  152,  148,  143,  143,  130,  119,  116,  108,  107,   84,   84,   83,\n",
       "          74,   74,   61,   58,   57,   49,   44,   40,   28,   27,   27,   27,   26,   25,   24,   17,   16,   10]))"
      ]
     },
     "execution_count": 257,
     "metadata": {},
     "output_type": "execute_result"
    }
   ],
   "source": [
    "#Imprimindo:\n",
    "\n",
    "states_name[state_count_sorted], states_count[state_count_sorted]"
   ]
  },
  {
   "cell_type": "code",
   "execution_count": 258,
   "id": "8055cfc1",
   "metadata": {},
   "outputs": [],
   "source": [
    "# Substituindo valores ausestes por zero\n",
    "\n",
    "arr_string[:,5] = np.where(arr_string[:,5] == '', 0, arr_string[:,5])"
   ]
  },
  {
   "cell_type": "code",
   "execution_count": 259,
   "id": "ea70c908",
   "metadata": {},
   "outputs": [],
   "source": [
    "# Uma questão interessante é se é mesmo necessário deixar no dataset o estado de cada cliente que pegar um \n",
    "#empréstimo.\n",
    "\n",
    "#Neste estudo vamos separar por regiões do EUA. \n",
    "\n",
    "#Separando por regiões:\n",
    "\n",
    "states_west = np.array(['WA', 'OR','CA','NV','ID','MT', 'WY','UT','CO', 'AZ','NM','HI','AK'])\n",
    "states_south = np.array(['TX','OK','AR','LA','MS','AL','TN','KY','FL','GA','SC','NC','VA','WV','MD','DE','DC'])\n",
    "states_midwest = np.array(['ND','SD','NE','KS','MN','IA','MO','WI','IL','IN','MI','OH'])\n",
    "states_east = np.array(['PA','NY','NJ','CT','MA','VT','NH','ME','RI'])"
   ]
  },
  {
   "cell_type": "code",
   "execution_count": 260,
   "id": "fb6e60a8",
   "metadata": {},
   "outputs": [],
   "source": [
    "# Substituindo o estado pelo id da região:\n",
    "\n",
    "arr_string[:,5] = np.where(np.isin(arr_string[:,5], states_west), 1, arr_string[:,5])\n",
    "arr_string[:,5] = np.where(np.isin(arr_string[:,5], states_south), 2, arr_string[:,5])\n",
    "arr_string[:,5] = np.where(np.isin(arr_string[:,5], states_midwest), 3, arr_string[:,5])\n",
    "arr_string[:,5] = np.where(np.isin(arr_string[:,5], states_east), 4, arr_string[:,5])"
   ]
  },
  {
   "cell_type": "code",
   "execution_count": 261,
   "id": "a87a3572",
   "metadata": {},
   "outputs": [
    {
     "data": {
      "text/plain": [
       "array(['0', '1', '2', '3', '4'], dtype='<U69')"
      ]
     },
     "execution_count": 261,
     "metadata": {},
     "output_type": "execute_result"
    }
   ],
   "source": [
    "# Verificando os valores únicos\n",
    "np.unique(arr_string[:,5])"
   ]
  },
  {
   "cell_type": "code",
   "execution_count": 262,
   "id": "88d4d404",
   "metadata": {},
   "outputs": [],
   "source": [
    "# Portanto transformamos os estados em 4 categorias númericas mais o valor ausente."
   ]
  },
  {
   "cell_type": "code",
   "execution_count": 266,
   "id": "967dc69a",
   "metadata": {},
   "outputs": [
    {
     "data": {
      "text/plain": [
       "array([['5', '1', '36', '13', '1', '1'],\n",
       "       ['0', '1', '36', '5', '1', '4'],\n",
       "       ['9', '1', '36', '10', '1', '4'],\n",
       "       ...,\n",
       "       ['6', '1', '36', '5', '1', '1'],\n",
       "       ['4', '1', '36', '17', '1', '3'],\n",
       "       ['12', '1', '36', '4', '0', '3']], dtype='<U69')"
      ]
     },
     "execution_count": 266,
     "metadata": {},
     "output_type": "execute_result"
    }
   ],
   "source": [
    "# Ajustando os dados do arr_string\n",
    "\n",
    "arr_string"
   ]
  },
  {
   "cell_type": "code",
   "execution_count": 267,
   "id": "1aaae2a9",
   "metadata": {},
   "outputs": [
    {
     "data": {
      "text/plain": [
       "array([[ 5,  1, 36, 13,  1,  1],\n",
       "       [ 0,  1, 36,  5,  1,  4],\n",
       "       [ 9,  1, 36, 10,  1,  4],\n",
       "       ...,\n",
       "       [ 6,  1, 36,  5,  1,  1],\n",
       "       [ 4,  1, 36, 17,  1,  3],\n",
       "       [12,  1, 36,  4,  0,  3]])"
      ]
     },
     "execution_count": 267,
     "metadata": {},
     "output_type": "execute_result"
    }
   ],
   "source": [
    "# Observa-se que temos dados do tipo string, vamos converter para int\n",
    "\n",
    "arr_string = arr_string.astype(int); arr_string\n",
    "\n"
   ]
  },
  {
   "cell_type": "code",
   "execution_count": 268,
   "id": "cb065868",
   "metadata": {},
   "outputs": [
    {
     "data": {
      "text/plain": [
       "dtype('int64')"
      ]
     },
     "execution_count": 268,
     "metadata": {},
     "output_type": "execute_result"
    }
   ],
   "source": [
    "arr_string.dtype"
   ]
  },
  {
   "cell_type": "code",
   "execution_count": 270,
   "id": "f30beef5",
   "metadata": {},
   "outputs": [],
   "source": [
    "# Fazendo o segundo checkpoint:\n",
    "\n",
    "checkpoint_strings = checkpoint(\"Checkpoint-Strings\", header_string, arr_string)"
   ]
  },
  {
   "cell_type": "markdown",
   "id": "af476856",
   "metadata": {},
   "source": [
    "### Manipulando variáveis numéricas"
   ]
  },
  {
   "cell_type": "code",
   "execution_count": 271,
   "id": "e6d627c8",
   "metadata": {},
   "outputs": [
    {
     "data": {
      "text/plain": [
       "array([[48010226.  ,    35000.  ,    35000.  ,       13.33,     1184.86,     9452.96],\n",
       "       [57693261.  ,    30000.  ,    30000.  , 68616520.  ,      938.57,     4679.7 ],\n",
       "       [59432726.  ,    15000.  ,    15000.  , 68616520.  ,      494.86,     1969.83],\n",
       "       ...,\n",
       "       [50415990.  ,    10000.  ,    10000.  , 68616520.  , 68616520.  ,     2185.64],\n",
       "       [46154151.  , 68616520.  ,    10000.  ,       16.55,      354.3 ,     3199.4 ],\n",
       "       [66055249.  ,    10000.  ,    10000.  , 68616520.  ,      309.97,      301.9 ]])"
      ]
     },
     "execution_count": 271,
     "metadata": {},
     "output_type": "execute_result"
    }
   ],
   "source": [
    "# Visualizando os dados numéricos:\n",
    "arr_num"
   ]
  },
  {
   "cell_type": "code",
   "execution_count": 272,
   "id": "e1a61c81",
   "metadata": {},
   "outputs": [
    {
     "data": {
      "text/plain": [
       "array(['id', 'loan_amnt', 'funded_amnt', 'int_rate', 'installment', 'total_pymnt'], dtype='<U19')"
      ]
     },
     "execution_count": 272,
     "metadata": {},
     "output_type": "execute_result"
    }
   ],
   "source": [
    "#Nomes das colunas\n",
    "header_num"
   ]
  },
  {
   "cell_type": "code",
   "execution_count": 274,
   "id": "0231108f",
   "metadata": {},
   "outputs": [
    {
     "data": {
      "text/plain": [
       "0"
      ]
     },
     "execution_count": 274,
     "metadata": {},
     "output_type": "execute_result"
    }
   ],
   "source": [
    "# Procurando valores NA:\n",
    "np.isnan(arr_num).sum()"
   ]
  },
  {
   "cell_type": "code",
   "execution_count": 275,
   "id": "a36af378",
   "metadata": {},
   "outputs": [
    {
     "data": {
      "text/plain": [
       "0"
      ]
     },
     "execution_count": 275,
     "metadata": {},
     "output_type": "execute_result"
    }
   ],
   "source": [
    "# Não temos dados faltantes mas temos ausência de informação.\n",
    "\n",
    "# No começo da manipulação dos dados númericos substituimos valores nan por maior_valor_mais_um\n",
    "#(maior valor do dataset +1).\n",
    "\n",
    "#Verificando se há esses valores em uma coluna:\n",
    "\n",
    "np.isin(arr_num[:,0], maior_valor_mais_um).sum()"
   ]
  },
  {
   "cell_type": "code",
   "execution_count": 278,
   "id": "3e7c21bd",
   "metadata": {},
   "outputs": [
    {
     "name": "stdout",
     "output_type": "stream",
     "text": [
      "[[  373332.           nan     1000.           nan     1000.           nan        6.         31.42         nan         nan         nan         nan         nan        0.  ]\n",
      " [54015809.19         nan    15273.46         nan    15311.04         nan       16.62      440.92         nan         nan         nan         nan         nan     3143.85]\n",
      " [68616519.           nan    35000.           nan    35000.           nan       28.99     1372.97         nan         nan         nan         nan         nan    41913.62]]\n"
     ]
    }
   ],
   "source": [
    "# O plano agora é criar um vetor de estatística contento, valor mínimo, média e valor máximo.\n",
    "# Usaremos iesse array para substituir os maior_valor_mais_um.\n",
    "\n",
    "arr_estat = np.array([np.nanmin(dados, axis = 0), media_sem_nan, np.nanmax(dados, axis = 0)]); print(arr_estat)"
   ]
  },
  {
   "cell_type": "code",
   "execution_count": 279,
   "id": "46ab9698",
   "metadata": {},
   "outputs": [
    {
     "data": {
      "text/plain": [
       "array([[  373332.  ,     1000.  ,     1000.  ,        6.  ,       31.42,        0.  ],\n",
       "       [54015809.19,    15273.46,    15311.04,       16.62,      440.92,     3143.85],\n",
       "       [68616519.  ,    35000.  ,    35000.  ,       28.99,     1372.97,    41913.62]])"
      ]
     },
     "execution_count": 279,
     "metadata": {},
     "output_type": "execute_result"
    }
   ],
   "source": [
    "# Pegando o array estatístico das colunas numéricas:\n",
    "arr_estat[:, cols_num]"
   ]
  },
  {
   "cell_type": "code",
   "execution_count": 280,
   "id": "c6b175c4",
   "metadata": {},
   "outputs": [
    {
     "data": {
      "text/plain": [
       "array([35000., 30000., 15000., ..., 10000., 10000., 10000.])"
      ]
     },
     "execution_count": 280,
     "metadata": {},
     "output_type": "execute_result"
    }
   ],
   "source": [
    "# Tratando da variável funded_amnt:\n",
    "arr_num[:, 2]\n",
    "\n"
   ]
  },
  {
   "cell_type": "code",
   "execution_count": 281,
   "id": "5e355082",
   "metadata": {},
   "outputs": [
    {
     "data": {
      "text/plain": [
       "1000.0"
      ]
     },
     "execution_count": 281,
     "metadata": {},
     "output_type": "execute_result"
    }
   ],
   "source": [
    "# Buscando essa variável no array de estatística:\n",
    "arr_estat[0, cols_num[2]]"
   ]
  },
  {
   "cell_type": "code",
   "execution_count": 282,
   "id": "90a2be78",
   "metadata": {},
   "outputs": [
    {
     "data": {
      "text/plain": [
       "array([35000., 30000., 15000., ..., 10000., 10000., 10000.])"
      ]
     },
     "execution_count": 282,
     "metadata": {},
     "output_type": "execute_result"
    }
   ],
   "source": [
    "# Agora substituímos o maior_valor_mais_um pela estatística correspondente.\n",
    "arr_num[:, 2] = np.where(arr_num[:, 2] == maior_valor_mais_um, arr_estat[0, cols_num[2]], arr_num[:, 2]); arr_num[:, 2]"
   ]
  },
  {
   "cell_type": "code",
   "execution_count": 283,
   "id": "91ca5ec6",
   "metadata": {},
   "outputs": [
    {
     "data": {
      "text/plain": [
       "array(['id', 'loan_amnt', 'funded_amnt', 'int_rate', 'installment', 'total_pymnt'], dtype='<U19')"
      ]
     },
     "execution_count": 283,
     "metadata": {},
     "output_type": "execute_result"
    }
   ],
   "source": [
    "# Fazendo o mesmo procedimento para as outras variáveis numéricas.\n",
    "header_num"
   ]
  },
  {
   "cell_type": "code",
   "execution_count": 284,
   "id": "f1187dd9",
   "metadata": {},
   "outputs": [],
   "source": [
    "for i in [1,3,4, 5]:\n",
    "    arr_num[:, i] = np.where(arr_num[:, i] == maior_valor_mais_um,\n",
    "                            arr_estat[0, cols_num[i]],\n",
    "                            arr_num[:, i])"
   ]
  },
  {
   "cell_type": "code",
   "execution_count": 285,
   "id": "09a51c23",
   "metadata": {},
   "outputs": [
    {
     "data": {
      "text/plain": [
       "array([[48010226.  ,    35000.  ,    35000.  ,       13.33,     1184.86,     9452.96],\n",
       "       [57693261.  ,    30000.  ,    30000.  ,        6.  ,      938.57,     4679.7 ],\n",
       "       [59432726.  ,    15000.  ,    15000.  ,        6.  ,      494.86,     1969.83],\n",
       "       ...,\n",
       "       [50415990.  ,    10000.  ,    10000.  ,        6.  ,       31.42,     2185.64],\n",
       "       [46154151.  ,     1000.  ,    10000.  ,       16.55,      354.3 ,     3199.4 ],\n",
       "       [66055249.  ,    10000.  ,    10000.  ,        6.  ,      309.97,      301.9 ]])"
      ]
     },
     "execution_count": 285,
     "metadata": {},
     "output_type": "execute_result"
    }
   ],
   "source": [
    "#Verificando:\n",
    "\n",
    "arr_num"
   ]
  },
  {
   "cell_type": "markdown",
   "id": "247bf09a",
   "metadata": {},
   "source": [
    "### Utilizando o segundo dataset para converter os dados para euro."
   ]
  },
  {
   "cell_type": "code",
   "execution_count": 286,
   "id": "11091bb1",
   "metadata": {},
   "outputs": [],
   "source": [
    "dados_cot = np.genfromtxt(\"dataset2.csv\", \n",
    "                          delimiter = ',', \n",
    "                          autostrip = True, \n",
    "                          skip_header = 1, \n",
    "                          usecols = 3)"
   ]
  },
  {
   "cell_type": "code",
   "execution_count": 287,
   "id": "4670393e",
   "metadata": {},
   "outputs": [
    {
     "data": {
      "text/plain": [
       "array([1.13, 1.12, 1.08, 1.11, 1.1 , 1.12, 1.09, 1.13, 1.13, 1.1 , 1.06, 1.09])"
      ]
     },
     "execution_count": 287,
     "metadata": {},
     "output_type": "execute_result"
    }
   ],
   "source": [
    "dados_cot"
   ]
  },
  {
   "cell_type": "code",
   "execution_count": 289,
   "id": "738557a2",
   "metadata": {},
   "outputs": [
    {
     "data": {
      "text/plain": [
       "array(['issue_date', 'loan_status', 'term_months', 'sub_grade', 'verification_status', 'state_address'], dtype='<U19')"
      ]
     },
     "execution_count": 289,
     "metadata": {},
     "output_type": "execute_result"
    }
   ],
   "source": [
    "# Nomes de colunas\n",
    "header_string"
   ]
  },
  {
   "cell_type": "code",
   "execution_count": 291,
   "id": "fb5f58a5",
   "metadata": {},
   "outputs": [
    {
     "data": {
      "text/plain": [
       "array([[ 5,  1, 36, 13,  1,  1],\n",
       "       [ 0,  1, 36,  5,  1,  4],\n",
       "       [ 9,  1, 36, 10,  1,  4],\n",
       "       ...,\n",
       "       [ 6,  1, 36,  5,  1,  1],\n",
       "       [ 4,  1, 36, 17,  1,  3],\n",
       "       [12,  1, 36,  4,  0,  3]])"
      ]
     },
     "execution_count": 291,
     "metadata": {},
     "output_type": "execute_result"
    }
   ],
   "source": [
    "# Dados\n",
    "arr_string"
   ]
  },
  {
   "cell_type": "code",
   "execution_count": 292,
   "id": "8dc45dba",
   "metadata": {},
   "outputs": [
    {
     "data": {
      "text/plain": [
       "array([ 5,  0,  9, ...,  6,  4, 12])"
      ]
     },
     "execution_count": 292,
     "metadata": {},
     "output_type": "execute_result"
    }
   ],
   "source": [
    "# Observamos que a coluna 0 é o mês!\n",
    "\n",
    "# Primeiro vamos colocar essa variável do mês em um objeto:\n",
    "\n",
    "taxa_cambio = arr_string[:, 0]; taxa_cambio"
   ]
  },
  {
   "cell_type": "code",
   "execution_count": 293,
   "id": "8d5cd22b",
   "metadata": {},
   "outputs": [],
   "source": [
    "# O loop abaixo nos retorna a taxa de câmbio correspondente para cada mês.\n",
    "\n",
    "for i in range(1,13): # 13 fica fora\n",
    "    taxa_cambio = np.where(taxa_cambio == i, dados_cot[i - 1], taxa_cambio)\n",
    "# dados_cot[i - 1] porque temos o cabeçalho"
   ]
  },
  {
   "cell_type": "code",
   "execution_count": 294,
   "id": "f93a9b4b",
   "metadata": {},
   "outputs": [
    {
     "data": {
      "text/plain": [
       "array([1.1 , 0.  , 1.13, ..., 1.12, 1.11, 1.09])"
      ]
     },
     "execution_count": 294,
     "metadata": {},
     "output_type": "execute_result"
    }
   ],
   "source": [
    "taxa_cambio"
   ]
  },
  {
   "cell_type": "code",
   "execution_count": 296,
   "id": "0c172969",
   "metadata": {},
   "outputs": [
    {
     "data": {
      "text/plain": [
       "array([1.1 , 1.11, 1.13, ..., 1.12, 1.11, 1.09])"
      ]
     },
     "execution_count": 296,
     "metadata": {},
     "output_type": "execute_result"
    }
   ],
   "source": [
    "# Tratando valores ausentes na taxa_cambio\n",
    "\n",
    "taxa_cambio = np.where(taxa_cambio ==0, np.mean(dados_cot), taxa_cambio); taxa_cambio"
   ]
  },
  {
   "cell_type": "code",
   "execution_count": 297,
   "id": "3205c125",
   "metadata": {},
   "outputs": [
    {
     "data": {
      "text/plain": [
       "(10000,)"
      ]
     },
     "execution_count": 297,
     "metadata": {},
     "output_type": "execute_result"
    }
   ],
   "source": [
    "# Verificando o formato:\n",
    "taxa_cambio.shape"
   ]
  },
  {
   "cell_type": "code",
   "execution_count": 298,
   "id": "73e9570f",
   "metadata": {},
   "outputs": [
    {
     "data": {
      "text/plain": [
       "(10000, 6)"
      ]
     },
     "execution_count": 298,
     "metadata": {},
     "output_type": "execute_result"
    }
   ],
   "source": [
    "arr_num.shape"
   ]
  },
  {
   "cell_type": "code",
   "execution_count": 301,
   "id": "05b73f4d",
   "metadata": {},
   "outputs": [],
   "source": [
    "# Fazendo reshape da variável taxa_cambio\n",
    "\n",
    "taxa_cambio = np.reshape(taxa_cambio, (10000,1))"
   ]
  },
  {
   "cell_type": "code",
   "execution_count": 302,
   "id": "9feee1b3",
   "metadata": {},
   "outputs": [
    {
     "data": {
      "text/plain": [
       "array([[48010226.  ,    35000.  ,    35000.  , ...,     1184.86,     9452.96,        1.1 ],\n",
       "       [57693261.  ,    30000.  ,    30000.  , ...,      938.57,     4679.7 ,        1.11],\n",
       "       [59432726.  ,    15000.  ,    15000.  , ...,      494.86,     1969.83,        1.13],\n",
       "       ...,\n",
       "       [50415990.  ,    10000.  ,    10000.  , ...,       31.42,     2185.64,        1.12],\n",
       "       [46154151.  ,     1000.  ,    10000.  , ...,      354.3 ,     3199.4 ,        1.11],\n",
       "       [66055249.  ,    10000.  ,    10000.  , ...,      309.97,      301.9 ,        1.09]])"
      ]
     },
     "execution_count": 302,
     "metadata": {},
     "output_type": "execute_result"
    }
   ],
   "source": [
    "# Agora concatenando os arrays:\n",
    "\n",
    "arr_num = np.hstack((arr_num, taxa_cambio)); arr_num"
   ]
  },
  {
   "cell_type": "code",
   "execution_count": 304,
   "id": "9c11cd43",
   "metadata": {},
   "outputs": [],
   "source": [
    "header_num = np.concatenate((header_num, np.array(['taxa_cambio'])))"
   ]
  },
  {
   "cell_type": "code",
   "execution_count": 305,
   "id": "ac107ab6",
   "metadata": {},
   "outputs": [
    {
     "data": {
      "text/plain": [
       "array(['id', 'loan_amnt', 'funded_amnt', 'int_rate', 'installment', 'total_pymnt', 'taxa_cambio'], dtype='<U19')"
      ]
     },
     "execution_count": 305,
     "metadata": {},
     "output_type": "execute_result"
    }
   ],
   "source": [
    "header_num"
   ]
  },
  {
   "cell_type": "code",
   "execution_count": 306,
   "id": "7b3783db",
   "metadata": {},
   "outputs": [],
   "source": [
    "# Colunas em dólar\n",
    "\n",
    "cols_dolar = np.array([1,2,4,5])"
   ]
  },
  {
   "cell_type": "code",
   "execution_count": 307,
   "id": "658d954a",
   "metadata": {},
   "outputs": [
    {
     "data": {
      "text/plain": [
       "(10000, 7)"
      ]
     },
     "execution_count": 307,
     "metadata": {},
     "output_type": "execute_result"
    }
   ],
   "source": [
    "# Shape do arr_num\n",
    "arr_num.shape"
   ]
  },
  {
   "cell_type": "code",
   "execution_count": 309,
   "id": "c0dddcfe",
   "metadata": {},
   "outputs": [],
   "source": [
    "# Agora vamos acrescentar mais 4 colunas, isto é, as 4 colunas em dólar modificada para euro.\n",
    "\n",
    "for i in cols_dolar:\n",
    "    arr_num = np.hstack((arr_num, np.reshape(arr_num[:, i] / arr_num[:, 6], (10000,1))))"
   ]
  },
  {
   "cell_type": "code",
   "execution_count": 310,
   "id": "c476f169",
   "metadata": {},
   "outputs": [
    {
     "data": {
      "text/plain": [
       "(10000, 11)"
      ]
     },
     "execution_count": 310,
     "metadata": {},
     "output_type": "execute_result"
    }
   ],
   "source": [
    "arr_num.shape"
   ]
  },
  {
   "cell_type": "code",
   "execution_count": 311,
   "id": "7be09dc0",
   "metadata": {},
   "outputs": [
    {
     "data": {
      "text/plain": [
       "array([[48010226.  ,    35000.  ,    35000.  , ...,    31933.3 ,     1081.04,     8624.69],\n",
       "       [57693261.  ,    30000.  ,    30000.  , ...,    27132.46,      848.86,     4232.39],\n",
       "       [59432726.  ,    15000.  ,    15000.  , ...,    13326.3 ,      439.64,     1750.04],\n",
       "       ...,\n",
       "       [50415990.  ,    10000.  ,    10000.  , ...,     8910.3 ,       28.  ,     1947.47],\n",
       "       [46154151.  ,     1000.  ,    10000.  , ...,     8997.4 ,      318.78,     2878.63],\n",
       "       [66055249.  ,    10000.  ,    10000.  , ...,     9145.8 ,      283.49,      276.11]])"
      ]
     },
     "execution_count": 311,
     "metadata": {},
     "output_type": "execute_result"
    }
   ],
   "source": [
    "# Visualizando:\n",
    "arr_num"
   ]
  },
  {
   "cell_type": "code",
   "execution_count": 312,
   "id": "8243bd6b",
   "metadata": {},
   "outputs": [],
   "source": [
    "# Precisamos agora ajustar os nomes das colunas.\n",
    "# Vamos pegar os nomes das 4 colunas em dólar e adicionar o sufixo EURO.\n",
    "header_adicional = np.array([nome_coluna + '_EURO' for nome_coluna in header_num[cols_dolar]])"
   ]
  },
  {
   "cell_type": "code",
   "execution_count": 313,
   "id": "535f70e3",
   "metadata": {},
   "outputs": [
    {
     "data": {
      "text/plain": [
       "array(['loan_amnt_EURO', 'funded_amnt_EURO', 'installment_EURO', 'total_pymnt_EURO'], dtype='<U16')"
      ]
     },
     "execution_count": 313,
     "metadata": {},
     "output_type": "execute_result"
    }
   ],
   "source": [
    "# Visualizando:\n",
    "header_adicional"
   ]
  },
  {
   "cell_type": "code",
   "execution_count": 314,
   "id": "d23b4400",
   "metadata": {},
   "outputs": [
    {
     "data": {
      "text/plain": [
       "array(['id', 'loan_amnt', 'funded_amnt', 'int_rate', 'installment', 'total_pymnt', 'taxa_cambio', 'loan_amnt_EURO', 'funded_amnt_EURO', 'installment_EURO', 'total_pymnt_EURO'], dtype='<U19')"
      ]
     },
     "execution_count": 314,
     "metadata": {},
     "output_type": "execute_result"
    }
   ],
   "source": [
    "# Concatenando com o array de nomes:\n",
    "\n",
    "header_num = np.concatenate((header_num, header_adicional)); header_num"
   ]
  },
  {
   "cell_type": "code",
   "execution_count": 316,
   "id": "038ac6ea",
   "metadata": {},
   "outputs": [],
   "source": [
    "# Identificando as colunas em dólar:\n",
    "header_num[cols_dolar] = np.array([nome_coluna + '_USD' for nome_coluna in header_num[cols_dolar]])"
   ]
  },
  {
   "cell_type": "code",
   "execution_count": 317,
   "id": "6c76e879",
   "metadata": {},
   "outputs": [
    {
     "data": {
      "text/plain": [
       "array(['id', 'loan_amnt_USD', 'funded_amnt_USD', 'int_rate', 'installment_USD', 'total_pymnt_USD', 'taxa_cambio', 'loan_amnt_EURO', 'funded_amnt_EURO', 'installment_EURO', 'total_pymnt_EURO'],\n",
       "      dtype='<U19')"
      ]
     },
     "execution_count": 317,
     "metadata": {},
     "output_type": "execute_result"
    }
   ],
   "source": [
    "# Visualizando:\n",
    "header_num"
   ]
  },
  {
   "cell_type": "code",
   "execution_count": 318,
   "id": "088fbed2",
   "metadata": {},
   "outputs": [],
   "source": [
    "# Criando os índices das colunas:\n",
    "\n",
    "cols_index_ordem = [0,1,7,2,8,3,4,9,5,10,6]"
   ]
  },
  {
   "cell_type": "code",
   "execution_count": 319,
   "id": "69935f7e",
   "metadata": {},
   "outputs": [],
   "source": [
    "header_num = header_num[cols_index_ordem]"
   ]
  },
  {
   "cell_type": "code",
   "execution_count": 321,
   "id": "7ab1238d",
   "metadata": {},
   "outputs": [
    {
     "data": {
      "text/plain": [
       "array([[48010226.  ,    35000.  ,    35000.  , ...,    31933.3 ,     1081.04,     8624.69],\n",
       "       [57693261.  ,    30000.  ,    30000.  , ...,    27132.46,      848.86,     4232.39],\n",
       "       [59432726.  ,    15000.  ,    15000.  , ...,    13326.3 ,      439.64,     1750.04],\n",
       "       ...,\n",
       "       [50415990.  ,    10000.  ,    10000.  , ...,     8910.3 ,       28.  ,     1947.47],\n",
       "       [46154151.  ,     1000.  ,    10000.  , ...,     8997.4 ,      318.78,     2878.63],\n",
       "       [66055249.  ,    10000.  ,    10000.  , ...,     9145.8 ,      283.49,      276.11]])"
      ]
     },
     "execution_count": 321,
     "metadata": {},
     "output_type": "execute_result"
    }
   ],
   "source": [
    "arr_num"
   ]
  },
  {
   "cell_type": "code",
   "execution_count": 322,
   "id": "da981741",
   "metadata": {},
   "outputs": [
    {
     "data": {
      "text/plain": [
       "array([94.53, 46.8 , 19.7 , ..., 21.86, 31.99,  3.02])"
      ]
     },
     "execution_count": 322,
     "metadata": {},
     "output_type": "execute_result"
    }
   ],
   "source": [
    "# Por último vamos processar a variável int_rate (taxa de juros)\n",
    "\n",
    "arr_num[:, 5] = (arr_num[:, 5] / 100); arr_num[:, 5]"
   ]
  },
  {
   "cell_type": "code",
   "execution_count": 323,
   "id": "6d9a9832",
   "metadata": {},
   "outputs": [],
   "source": [
    "# Checkpoint das variáveis numéricas:\n",
    "\n",
    "checkpoint_numeric = checkpoint(\"Checkpoint-Numeric\", header_num, arr_num)"
   ]
  },
  {
   "cell_type": "markdown",
   "id": "9fa031dd",
   "metadata": {},
   "source": [
    "### Construindo o Dataset Final"
   ]
  },
  {
   "cell_type": "code",
   "execution_count": 324,
   "id": "28b0eaca",
   "metadata": {},
   "outputs": [
    {
     "data": {
      "text/plain": [
       "(10000, 6)"
      ]
     },
     "execution_count": 324,
     "metadata": {},
     "output_type": "execute_result"
    }
   ],
   "source": [
    "checkpoint_strings['data'].shape"
   ]
  },
  {
   "cell_type": "code",
   "execution_count": 325,
   "id": "7b582c72",
   "metadata": {},
   "outputs": [
    {
     "data": {
      "text/plain": [
       "(10000, 11)"
      ]
     },
     "execution_count": 325,
     "metadata": {},
     "output_type": "execute_result"
    }
   ],
   "source": [
    "checkpoint_numeric['data'].shape"
   ]
  },
  {
   "cell_type": "code",
   "execution_count": 328,
   "id": "d4b5d84f",
   "metadata": {},
   "outputs": [],
   "source": [
    "df_final = np.hstack((checkpoint_numeric['data'], checkpoint_strings['data']))"
   ]
  },
  {
   "cell_type": "code",
   "execution_count": 329,
   "id": "29f4ccde",
   "metadata": {},
   "outputs": [
    {
     "data": {
      "text/plain": [
       "array([[48010226.,    35000.,    35000., ...,       13.,        1.,        1.],\n",
       "       [57693261.,    30000.,    30000., ...,        5.,        1.,        4.],\n",
       "       [59432726.,    15000.,    15000., ...,       10.,        1.,        4.],\n",
       "       ...,\n",
       "       [50415990.,    10000.,    10000., ...,        5.,        1.,        1.],\n",
       "       [46154151.,     1000.,    10000., ...,       17.,        1.,        3.],\n",
       "       [66055249.,    10000.,    10000., ...,        4.,        0.,        3.]])"
      ]
     },
     "execution_count": 329,
     "metadata": {},
     "output_type": "execute_result"
    }
   ],
   "source": [
    "df_final"
   ]
  },
  {
   "cell_type": "code",
   "execution_count": 331,
   "id": "5f1d7883",
   "metadata": {},
   "outputs": [
    {
     "data": {
      "text/plain": [
       "0"
      ]
     },
     "execution_count": 331,
     "metadata": {},
     "output_type": "execute_result"
    }
   ],
   "source": [
    "# Verificação final se ficou algum valor NA\n",
    "\n",
    "np.isnan(df_final).sum()"
   ]
  },
  {
   "cell_type": "code",
   "execution_count": 332,
   "id": "06082c7d",
   "metadata": {},
   "outputs": [],
   "source": [
    "# Concatenação final dos nomes das colunas\n",
    "\n",
    "header_total = np.concatenate((checkpoint_numeric['header'], checkpoint_strings['header']))"
   ]
  },
  {
   "cell_type": "code",
   "execution_count": 333,
   "id": "e448eb44",
   "metadata": {},
   "outputs": [
    {
     "data": {
      "text/plain": [
       "array([[  373332.,     9950.,     1000., ...,       21.,        0.,        1.],\n",
       "       [  575239.,    12000.,    12000., ...,       25.,        1.,        2.],\n",
       "       [  707689.,    10000.,    10000., ...,       13.,        1.,        0.],\n",
       "       ...,\n",
       "       [68614880.,     5600.,     5600., ...,        8.,        1.,        1.],\n",
       "       [68615915.,     4000.,     4000., ...,       10.,        1.,        2.],\n",
       "       [68616519.,    21600.,    21600., ...,        3.,        0.,        2.]])"
      ]
     },
     "execution_count": 333,
     "metadata": {},
     "output_type": "execute_result"
    }
   ],
   "source": [
    "# Ordenando o dataset:\n",
    "df_final = df_final[np.argsort(df_final[:,0])]; df_final"
   ]
  },
  {
   "cell_type": "code",
   "execution_count": 334,
   "id": "67d01c80",
   "metadata": {},
   "outputs": [
    {
     "data": {
      "text/plain": [
       "array([   0,    1,    2, ..., 9997, 9998, 9999])"
      ]
     },
     "execution_count": 334,
     "metadata": {},
     "output_type": "execute_result"
    }
   ],
   "source": [
    "# Confirmando a ordenação pela coluna id:\n",
    "\n",
    "np.argsort(df_final[:,0])"
   ]
  },
  {
   "cell_type": "markdown",
   "id": "dbebf57d",
   "metadata": {},
   "source": [
    "### Gravando em disco o dataset limpo e pré-processado\n"
   ]
  },
  {
   "cell_type": "code",
   "execution_count": 336,
   "id": "d6827e3e",
   "metadata": {},
   "outputs": [],
   "source": [
    "# Primeiro vamos concatenar o array com os nomes das colunas com o dataset \n",
    "df_final = np.vstack((header_total, df_final )) #vstack pois as dimensões são diferentes."
   ]
  },
  {
   "cell_type": "code",
   "execution_count": 337,
   "id": "db1f16fd",
   "metadata": {},
   "outputs": [],
   "source": [
    "# Salvando:\n",
    "\n",
    "np.savetxt('dataset_limpo_preprocessado.csv',\n",
    "          df_final,\n",
    "          fmt = '%s',\n",
    "          delimiter = ',')"
   ]
  },
  {
   "cell_type": "markdown",
   "id": "7475c5a6",
   "metadata": {},
   "source": [
    "### Fim do estudo de caso"
   ]
  },
  {
   "cell_type": "code",
   "execution_count": null,
   "id": "d8d974c6",
   "metadata": {},
   "outputs": [],
   "source": []
  }
 ],
 "metadata": {
  "kernelspec": {
   "display_name": "Python 3 (ipykernel)",
   "language": "python",
   "name": "python3"
  },
  "language_info": {
   "codemirror_mode": {
    "name": "ipython",
    "version": 3
   },
   "file_extension": ".py",
   "mimetype": "text/x-python",
   "name": "python",
   "nbconvert_exporter": "python",
   "pygments_lexer": "ipython3",
   "version": "3.9.12"
  }
 },
 "nbformat": 4,
 "nbformat_minor": 5
}
